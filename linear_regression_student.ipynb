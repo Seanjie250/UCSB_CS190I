{
  "nbformat": 4,
  "nbformat_minor": 0,
  "metadata": {
    "colab": {
      "provenance": [],
      "include_colab_link": true
    },
    "kernelspec": {
      "name": "python3",
      "display_name": "Python 3"
    },
    "language_info": {
      "name": "python"
    }
  },
  "cells": [
    {
      "cell_type": "markdown",
      "metadata": {
        "id": "view-in-github",
        "colab_type": "text"
      },
      "source": [
        "<a href=\"https://colab.research.google.com/github/Seanjie250/UCSB_CS190I/blob/main/linear_regression_student.ipynb\" target=\"_parent\"><img src=\"https://colab.research.google.com/assets/colab-badge.svg\" alt=\"Open In Colab\"/></a>"
      ]
    },
    {
      "cell_type": "markdown",
      "source": [
        "##Linear Regression with Python"
      ],
      "metadata": {
        "id": "L8kwDo1l4GLl"
      }
    },
    {
      "cell_type": "markdown",
      "source": [
        "In this machine problem (MP), you will implement a simple linear regression model in Python. You will create your own dataset and visualize the results using Matplotlib.\n",
        "\n"
      ],
      "metadata": {
        "id": "xd23PwWB2BzJ"
      }
    },
    {
      "cell_type": "code",
      "source": [
        "import random\n",
        "import numpy as np\n",
        "import matplotlib.pyplot as plt\n",
        "\n",
        "def reset_seed(seed):\n",
        "    random.seed(seed)\n",
        "    np.random.seed(seed)"
      ],
      "metadata": {
        "id": "ScZSQPMJ5qLF"
      },
      "execution_count": 41,
      "outputs": []
    },
    {
      "cell_type": "markdown",
      "source": [
        "**Task 1: Data Preparation**\n",
        "\n",
        "Write a Python function named `generate_data` that takes the following parameters:\n",
        "\n",
        "1.   `num_examples`: representing the number of data points to generate.\n",
        "2.   `input_dim`: representing the dimensionality of data points to generate (without the bias dimension)\n",
        "\n",
        "Inside the function:\n",
        "\n",
        "1.   Specify the linear coefficient w and bias term (generate them randomly).\n",
        "2.   Generate `num_examples` random values with dimension `input_dim`.\n",
        "3.   Calculate the corresponding target variable `y`.\n",
        "4.   (**opition**) Add random noise to `y` using a normal distribution with mean 0 and a pre-specified standard deviation.\n",
        "\n",
        "Return:\n",
        "\n",
        "1.   `data`: shape (num_examples, input_dim + 1), where the first dimension is the additional dimension and has value of 1.\n",
        "2.   `y`: the target variable."
      ],
      "metadata": {
        "id": "zczGtHPCTVXk"
      }
    },
    {
      "cell_type": "code",
      "source": [
        "import numpy as np\n",
        "\n",
        "def generate_data(num_examples, input_dim):\n",
        "    \"\"\"\n",
        "    This function generates a dataset for linear regression.\n",
        "    \"\"\"\n",
        "    data, gt_y = None, None\n",
        "\n",
        "    # Generate random linear coefficient and bias term\n",
        "    w = np.random.randn(input_dim)\n",
        "    b = np.random.randn()\n",
        "\n",
        "    # Generate random input data\n",
        "    X = np.random.randn(num_examples, input_dim)\n",
        "    # Add bias term (1) to the data\n",
        "    data = np.hstack((np.ones((num_examples, 1)), X))\n",
        "\n",
        "    # Calculate target variable\n",
        "    y = np.dot(data, np.concatenate(([b], w))) + np.random.normal(0, 0.1, size=num_examples)\n",
        "\n",
        "    return data, y\n",
        "\n"
      ],
      "metadata": {
        "id": "lgDmpoN-38t0"
      },
      "execution_count": 42,
      "outputs": []
    },
    {
      "cell_type": "markdown",
      "source": [
        "**Task 2: Data Visualization**\n",
        "\n",
        "Generate synthetic data using your `generate_data` function.\n",
        "Create scatter plots to visualize the generated data points by setting input_dim to 1.\n"
      ],
      "metadata": {
        "id": "w7GFJOLbcHXX"
      }
    },
    {
      "cell_type": "code",
      "source": [
        "num_example = 20\n",
        "input_dim = 1\n",
        "reset_seed(1)\n",
        "\n",
        "data, gt_y = generate_data(num_example, input_dim)\n",
        "\n",
        "plt.scatter(data[:,1], gt_y, label='Data Points', color='blue', marker='o')\n",
        "plt.xlabel('data')\n",
        "plt.ylabel('gt_y')\n",
        "plt.title('Scatter plot')\n",
        "plt.show()"
      ],
      "metadata": {
        "id": "aGpHOvINaor2",
        "outputId": "09bf5749-5b5d-4d9e-94a1-477cd4667ebf",
        "colab": {
          "base_uri": "https://localhost:8080/",
          "height": 472
        }
      },
      "execution_count": 43,
      "outputs": [
        {
          "output_type": "display_data",
          "data": {
            "text/plain": [
              "<Figure size 640x480 with 1 Axes>"
            ],
            "image/png": "[encoded data removed]"
          },
          "metadata": {}
        }
      ]
    },
    {
      "cell_type": "markdown",
      "source": [
        "**Task 3: Data Splitting for Model Training**\n",
        "\n",
        "Split the created dataset into a training set and a validation set. Please use the variable `train_perc` to control the proportion of data used for training. Splitting data into separate sets is crucial for evaluating machine learning models.\n",
        "\n",
        "Inside the function:\n",
        "\n",
        "1.   Calculate the number of samples to include in the training set and the validation set based on the `train_perc` parameter, which is a floating-point number between 0 and 1, indicating the proportion of data to be used for training. For example, if `train_perc` = 0.8, 80% of the data will be used for training, and the remaining 20% will be used for validation.\n",
        "\n",
        "2.   Randomly shuffle the data to ensure that it's not sorted in any particular order.\n",
        "\n",
        "3.   Split the data into training and validation sets according to the specified proportions.\n",
        "\n"
      ],
      "metadata": {
        "id": "0gsVqgW0mYGs"
      }
    },
    {
      "cell_type": "code",
      "execution_count": 45,
      "metadata": {
        "id": "fAQh7jLS19Re"
      },
      "outputs": [],
      "source": [
        "def train_test_split(data, gt_y, train_perc):\n",
        "    \"\"\"\n",
        "    Split the dataset into training and validation set.\n",
        "    \"\"\"\n",
        "    assert(train_perc > 0. and train_perc <= 1.)\n",
        "\n",
        "    num_samples = data.shape[0]\n",
        "    num_train_samples = int(num_samples * train_perc)\n",
        "\n",
        "    # Randomly shuffle the data\n",
        "    indices = np.arange(num_samples)\n",
        "    np.random.shuffle(indices)\n",
        "    data = data[indices]\n",
        "    gt_y = gt_y[indices]\n",
        "\n",
        "    # Split data and gt_y into train and val\n",
        "    data_train = data[:num_train_samples]\n",
        "    y_train = gt_y[:num_train_samples]\n",
        "    data_test = data[num_train_samples:]\n",
        "    y_test = gt_y[num_train_samples:]\n",
        "\n",
        "    return data_train, y_train, data_test, y_test\n",
        "    reset_seed(1)\n",
        "    train_perc = 0.3\n",
        "    data_train, y_train, data_test, y_test = train_test_split(data, gt_y, train_perc)\n",
        "    print(data_train.shape)\n"
      ]
    },
    {
      "cell_type": "markdown",
      "source": [
        "**Task 4: Model Training - Analytically**\n",
        "\n",
        "You need to implement a simple linear regression function to obtian optimal weight and bias using the analytical solution method. This method allows you to calculate the coefficients of the linear regression model directly without iterative optimization algorithms."
      ],
      "metadata": {
        "id": "YJYcP_uUnTH-"
      }
    },
    {
      "cell_type": "code",
      "source": [
        "def lin_reg_analyt(X, y):\n",
        "    \"\"\"\n",
        "    Train linear regression analytical.\n",
        "    Optimial solution:\n",
        "    (X^T * X)^{-1} * X^T * y\n",
        "    \"\"\"\n",
        "    W_optim = np.linalg.inv(X.T @ X) @ X.T @ y\n",
        "    return W_optim"
      ],
      "metadata": {
        "id": "uUTgD8ff53Or"
      },
      "execution_count": 46,
      "outputs": []
    },
    {
      "cell_type": "markdown",
      "source": [
        "**Task 5: Train Your Model**\n",
        "\n",
        "Now, you already have all the helper functions to train your linear regression model. Obtain the predicted parameters."
      ],
      "metadata": {
        "id": "NFqskhvUqTMJ"
      }
    },
    {
      "cell_type": "code",
      "source": [
        "parameters = lin_reg_analyt(data_train, y_train)\n",
        "print(parameters)"
      ],
      "metadata": {
        "id": "Aa8cw5R76MFU",
        "outputId": "aee298fa-5720-4ce2-eacb-5f5dd7d0d6f6",
        "colab": {
          "base_uri": "https://localhost:8080/"
        }
      },
      "execution_count": 47,
      "outputs": [
        {
          "output_type": "stream",
          "name": "stdout",
          "text": [
            "[-0.60298134  1.67033723]\n"
          ]
        }
      ]
    },
    {
      "cell_type": "markdown",
      "source": [
        "**Task 6: Model Evaluation**\n",
        "Make predictions on the validation data using your trained model.  Calculate and display the Mean Squared Error (MSE) score to evaluate the model's performance.\n",
        "\n"
      ],
      "metadata": {
        "id": "qS0C9_dp0MH7"
      }
    },
    {
      "cell_type": "code",
      "source": [
        "\n",
        "\n",
        "y_test_pred = np.dot(data_test, parameters)\n",
        "\n",
        "\n",
        "# Calculate MSE error\n",
        "mse = np.mean((y_test - y_test_pred) ** 2)\n",
        "print(f\"MSE on validation set: {mse}\")"
      ],
      "metadata": {
        "id": "MWDqYtlf6hfg",
        "outputId": "94646e92-5a24-44fe-cacd-2834bad0b8aa",
        "colab": {
          "base_uri": "https://localhost:8080/"
        }
      },
      "execution_count": 53,
      "outputs": [
        {
          "output_type": "stream",
          "name": "stdout",
          "text": [
            "MSE on validation set: 0.007992390249793641\n"
          ]
        }
      ]
    },
    {
      "cell_type": "markdown",
      "source": [
        "**Remark**\n",
        "\n",
        "By now, you have finished the basic version of linear regression. With no additive noise in your data generation function, the MSE you achieve by using the analytical solution should be almost zero."
      ],
      "metadata": {
        "id": "kfkSzjuxt84D"
      }
    },
    {
      "cell_type": "markdown",
      "source": [
        "## Homework (Due on Sat Oct 21, 11:59pm PST)"
      ],
      "metadata": {
        "id": "7kAUMTJajo6u"
      }
    },
    {
      "cell_type": "markdown",
      "source": [
        "**Problem 1: Basic Gradient Descent [30 points]**\n",
        "\n",
        "Now, instead of using the analytic method to find the best parameters for the linear regression problem, you need to implement a gradient descent (GD) approach. Initialize your parameters with all zeros, set the number of iterations to 1000, and the learning rate to 1e-3. Report the MSE score and compare it to the one you found using the analytical approach."
      ],
      "metadata": {
        "id": "e1aHm3l_vUU5"
      }
    },
    {
      "cell_type": "code",
      "source": [
        "def gd_linear_regression(X, y, num_step, lr):\n",
        "    \"\"\"Use gradient descent to find the optimal parameters\"\"\"\n",
        "    # initialize parameters\n",
        "    parameters = np.zeros((X.shape[1], 1))\n",
        "\n",
        "    m = len(y)\n",
        "\n",
        "    for step in range(num_step):\n",
        "        # Compute predictions\n",
        "        predictions = np.dot(X, parameters)\n",
        "\n",
        "        # Compute error\n",
        "        error = predictions - y\n",
        "\n",
        "        # Compute gradient\n",
        "        gradient = np.dot(X.T, error) / m\n",
        "\n",
        "        # Update parameters\n",
        "        parameters = parameters - lr * gradient\n",
        "\n",
        "    return parameters\n",
        "\n",
        "num_step = 1000\n",
        "lr = 1e-3\n",
        "parameters_gd = gd_linear_regression(data_train, y_train, num_step, lr)\n",
        "print(parameters_gd)\n"
      ],
      "metadata": {
        "id": "HasYEcAwwZZL",
        "outputId": "cee48d31-8650-4318-8ef0-df2a2d6ae19d",
        "colab": {
          "base_uri": "https://localhost:8080/"
        }
      },
      "execution_count": 49,
      "outputs": [
        {
          "output_type": "stream",
          "name": "stdout",
          "text": [
            "[[-2.73881146 -0.2338053  -0.07457563 -0.74639792  0.54796403 -0.62204678]\n",
            " [ 0.42034724  0.03588396  0.01144572  0.11455564 -0.08410041  0.09547048]]\n"
          ]
        }
      ]
    },
    {
      "cell_type": "markdown",
      "source": [
        "Now evaluate the parameters you get by gradient descent on the validation set."
      ],
      "metadata": {
        "id": "OQLhTSeEIsJq"
      }
    },
    {
      "cell_type": "code",
      "source": [
        "\n",
        "data_test_reshaped = data_test.reshape(-1, 2)\n",
        "\n",
        "y_test_pred = np.dot(data_test_reshaped, parameters_gd)\n",
        "##################################################\n",
        "## TODO: Make predictions on the validation set ##\n",
        "##################################################\n",
        "\n",
        "##################################################\n",
        "################ End of your code ################\n",
        "##################################################\n",
        "\n",
        "\n",
        "\n",
        "mse = np.mean((y_test_reshaped - y_test_pred) ** 2)\n",
        "print(f\"MSE on validation set: {mse}\")"
      ],
      "metadata": {
        "id": "au2_Q9gUI2r5",
        "outputId": "2236bfea-cf1f-418d-85c3-25ca95393041",
        "colab": {
          "base_uri": "https://localhost:8080/",
          "height": 242
        }
      },
      "execution_count": 58,
      "outputs": [
        {
          "output_type": "error",
          "ename": "TypeError",
          "evalue": "ignored",
          "traceback": [
            "\u001b[0;31m---------------------------------------------------------------------------\u001b[0m",
            "\u001b[0;31mTypeError\u001b[0m                                 Traceback (most recent call last)",
            "\u001b[0;32m<ipython-input-58-372c5b03f03a>\u001b[0m in \u001b[0;36m<cell line: 12>\u001b[0;34m()\u001b[0m\n\u001b[1;32m     10\u001b[0m \u001b[0;31m##################################################\u001b[0m\u001b[0;34m\u001b[0m\u001b[0;34m\u001b[0m\u001b[0m\n\u001b[1;32m     11\u001b[0m \u001b[0;34m\u001b[0m\u001b[0m\n\u001b[0;32m---> 12\u001b[0;31m \u001b[0my_test_reshaped\u001b[0m \u001b[0;34m=\u001b[0m \u001b[0my_test_reshaped\u001b[0m\u001b[0;34m(\u001b[0m\u001b[0;36m14\u001b[0m\u001b[0;34m,\u001b[0m \u001b[0;36m6\u001b[0m\u001b[0;34m)\u001b[0m\u001b[0;34m\u001b[0m\u001b[0;34m\u001b[0m\u001b[0m\n\u001b[0m\u001b[1;32m     13\u001b[0m \u001b[0;34m\u001b[0m\u001b[0m\n\u001b[1;32m     14\u001b[0m \u001b[0;34m\u001b[0m\u001b[0m\n",
            "\u001b[0;31mTypeError\u001b[0m: 'numpy.ndarray' object is not callable"
          ]
        }
      ]
    },
    {
      "cell_type": "markdown",
      "source": [
        "**Problem 2: Learning Rate in Gradient Descent [20 points]**\n",
        "\n",
        "In this problem, you need to experiment with different learning rates. Please report the MSE score when you set your learning rate as 0.05 and 1e-7 (with the number of gradient descent steps remaining at 1000). Discuss your findings."
      ],
      "metadata": {
        "id": "Mx6xeK-h2J_U"
      }
    },
    {
      "cell_type": "markdown",
      "source": [
        " MSE = 0.007992390249793641 when lr is 0.05;\n",
        " MSE ="
      ],
      "metadata": {
        "id": "FO8G2ngerozA"
      }
    },
    {
      "cell_type": "markdown",
      "source": [
        "**Problem 3: Linear Regression with L2 Regularization [50 points]**\n",
        "\n",
        " Recall the objective function for linear regression can be expressed as $E(\\mathbf{w})=\\frac{1}{N}\\|\\mathbf{X}\\mathbf{w}-\\mathbf{y}\\|^2$. Minimizing this function with respect to $\\mathbf{w}$ leads to the optimal $\\mathbf{w}^*$ as $(\\mathbf{X}^T\\mathbf{X})^{-1}\\mathbf{X}^T\\mathbf{y}$.  However, this solution holds only when $\\mathbf{X}^T\\mathbf{X}$ is nonsingular.\n",
        "\n",
        "To overcome this problem, the following objective\n",
        "function is commonly minimized instead:\n",
        "$E_2(\\mathbf{w})=\\|\\mathbf{X}\\mathbf{w}-\\mathbf{y}\\|^2+\\alpha\\|\\mathbf{w}\\|^2,$ where $\\alpha>0$ is a user-specified parameter.  This objective function is often called ridge regression.  \n",
        "\n",
        "Now, you need to repeat what you have done to obtain the optimal parameters of the ridge regression model using **both analytical** and **gradient descent** approaches.\n",
        "\n",
        "Compare the MSE on the validation set for parameters obtained by four method: linear regression with analytical and gradient descent solution, and ridge regression with analytical and gradient descent solution (feel free to explore different values for $\\alpha$).\n",
        "\n",
        "Report your results in the following setting and discuss your findings:\n",
        "\n",
        "*   Generate 1000 random data points with input dimension 100 (not including bias). Fix 100 of them as test points. Among the remaining 900 data points, use different number of data points (25, 50, 75, 100, ..., 300) as training data. Report MSE on the test set and plot the MSE as a function of the number of training data.\n",
        "\n"
      ],
      "metadata": {
        "id": "hLSag1cK32Mv"
      }
    },
    {
      "cell_type": "code",
      "source": [
        "def ridge_regression_analyt(X, y, alpha):\n",
        "    \"\"\"Train ridge regression analytically.\"\"\"\n",
        "    W_optim = None\n",
        "    ##########################################\n",
        "    ## TODO: Calculate the optimal solution ##\n",
        "    ##########################################\n",
        "\n",
        "    ##########################################\n",
        "    ############ End of your code ############\n",
        "    ##########################################\n",
        "    return W_optim"
      ],
      "metadata": {
        "id": "QoULzFNb6feW"
      },
      "execution_count": null,
      "outputs": []
    },
    {
      "cell_type": "code",
      "source": [
        "def gd_ridge_regression(X, y, alpha, num_step, lr):\n",
        "    \"\"\"Use gradient descent to find the optimal parameters\"\"\"\n",
        "    # initialize parameters\n",
        "    parameters = np.zeros((X.shape[1], 1))\n",
        "    #############################################\n",
        "    ## TODO: Use GD to find optimal parameters ##\n",
        "    #############################################\n",
        "\n",
        "    #############################################\n",
        "    ########### End of your code ################\n",
        "    #############################################\n",
        "\n",
        "    return parameters"
      ],
      "metadata": {
        "id": "6V3Cgtl8K4XY"
      },
      "execution_count": null,
      "outputs": []
    }
  ]
}