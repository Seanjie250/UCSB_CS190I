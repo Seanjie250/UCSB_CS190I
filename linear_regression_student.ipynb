{
  "nbformat": 4,
  "nbformat_minor": 0,
  "metadata": {
    "colab": {
      "provenance": [],
      "include_colab_link": true
    },
    "kernelspec": {
      "name": "python3",
      "display_name": "Python 3"
    },
    "language_info": {
      "name": "python"
    }
  },
  "cells": [
    {
      "cell_type": "markdown",
      "metadata": {
        "id": "view-in-github",
        "colab_type": "text"
      },
      "source": [
        "<a href=\"https://colab.research.google.com/github/Seanjie250/UCSB_CS190I/blob/main/linear_regression_student.ipynb\" target=\"_parent\"><img src=\"https://colab.research.google.com/assets/colab-badge.svg\" alt=\"Open In Colab\"/></a>"
      ]
    },
    {
      "cell_type": "markdown",
      "source": [
        "##Linear Regression with Python"
      ],
      "metadata": {
        "id": "L8kwDo1l4GLl"
      }
    },
    {
      "cell_type": "markdown",
      "source": [
        "In this machine problem (MP), you will implement a simple linear regression model in Python. You will create your own dataset and visualize the results using Matplotlib.\n",
        "\n"
      ],
      "metadata": {
        "id": "xd23PwWB2BzJ"
      }
    },
    {
      "cell_type": "code",
      "source": [
        "import random\n",
        "import numpy as np\n",
        "import matplotlib.pyplot as plt\n",
        "\n",
        "def reset_seed(seed):\n",
        "    random.seed(seed)\n",
        "    np.random.seed(seed)"
      ],
      "metadata": {
        "id": "ScZSQPMJ5qLF"
      },
      "execution_count": 26,
      "outputs": []
    },
    {
      "cell_type": "markdown",
      "source": [
        "**Task 1: Data Preparation**\n",
        "\n",
        "Write a Python function named `generate_data` that takes the following parameters:\n",
        "\n",
        "1.   `num_examples`: representing the number of data points to generate.\n",
        "2.   `input_dim`: representing the dimensionality of data points to generate (without the bias dimension)\n",
        "\n",
        "Inside the function:\n",
        "\n",
        "1.   Specify the linear coefficient w and bias term (generate them randomly).\n",
        "2.   Generate `num_examples` random values with dimension `input_dim`.\n",
        "3.   Calculate the corresponding target variable `y`.\n",
        "4.   (**opition**) Add random noise to `y` using a normal distribution with mean 0 and a pre-specified standard deviation.\n",
        "\n",
        "Return:\n",
        "\n",
        "1.   `data`: shape (num_examples, input_dim + 1), where the first dimension is the additional dimension and has value of 1.\n",
        "2.   `y`: the target variable."
      ],
      "metadata": {
        "id": "zczGtHPCTVXk"
      }
    },
    {
      "cell_type": "code",
      "source": [
        "def generate_data(num_example, input_dim):\n",
        "    \"\"\"\n",
        "    This function generates a dataset for linear regression.\n",
        "    \"\"\"\n",
        "    data, gt_y = None, None\n",
        "   # w = np.random.randn(input_dim)\n",
        "\n",
        "\n",
        "    #bias = np.random.randn()\n",
        "    #data = np.random.randn(num_example, input_dim)\n",
        "    #add additional dimension with all value \"1\"\n",
        "    #data = np.hstack((np.ones((num_example, 1)), data))\n",
        "\n",
        "\n",
        "   # gt_y = np.dot(data, np.concatenate((np.array([bias]), w)))\n",
        "    w = np.random.randn(input_dim+1 , 1)\n",
        "\n",
        "    data = np.random.randn(num_example, input_dim+1)\n",
        "    data[:,0] = 1\n",
        "    gt_y = data @ w\n",
        "    noise = np.random.randn(num_example,1)*0.01\n",
        "    gt_y += noise\n",
        "\n",
        "\n",
        "    return data, gt_y"
      ],
      "metadata": {
        "id": "lgDmpoN-38t0"
      },
      "execution_count": 27,
      "outputs": []
    },
    {
      "cell_type": "markdown",
      "source": [
        "**Task 2: Data Visualization**\n",
        "\n",
        "Generate synthetic data using your `generate_data` function.\n",
        "Create scatter plots to visualize the generated data points by setting input_dim to 1.\n"
      ],
      "metadata": {
        "id": "w7GFJOLbcHXX"
      }
    },
    {
      "cell_type": "code",
      "source": [
        "num_example = 20\n",
        "input_dim = 1\n",
        "reset_seed(1)\n",
        "\n",
        "data, gt_y = generate_data(num_example, input_dim)\n",
        "\n",
        "plt.scatter(data[:,1], gt_y, label='Data Points', color='blue', marker='o')\n",
        "plt.xlabel('data')\n",
        "plt.ylabel('gt_y')\n",
        "plt.title('Scatter plot')\n",
        "plt.show()"
      ],
      "metadata": {
        "id": "aGpHOvINaor2",
        "outputId": "4b1ab16d-1d99-4369-8bd5-26fc2734043b",
        "colab": {
          "base_uri": "https://localhost:8080/",
          "height": 472
        }
      },
      "execution_count": 31,
      "outputs": [
        {
          "output_type": "display_data",
          "data": {
            "text/plain": [
              "<Figure size 640x480 with 1 Axes>"
            ],
            "image/png": "[encoded data removed]"
          },
          "metadata": {}
        }
      ]
    },
    {
      "cell_type": "markdown",
      "source": [
        "**Task 3: Data Splitting for Model Training**\n",
        "\n",
        "Split the created dataset into a training set and a validation set. Please use the variable `train_perc` to control the proportion of data used for training. Splitting data into separate sets is crucial for evaluating machine learning models.\n",
        "\n",
        "Inside the function:\n",
        "\n",
        "1.   Calculate the number of samples to include in the training set and the validation set based on the `train_perc` parameter, which is a floating-point number between 0 and 1, indicating the proportion of data to be used for training. For example, if `train_perc` = 0.8, 80% of the data will be used for training, and the remaining 20% will be used for validation.\n",
        "\n",
        "2.   Randomly shuffle the data to ensure that it's not sorted in any particular order.\n",
        "\n",
        "3.   Split the data into training and validation sets according to the specified proportions.\n",
        "\n"
      ],
      "metadata": {
        "id": "0gsVqgW0mYGs"
      }
    },
    {
      "cell_type": "code",
      "execution_count": 32,
      "metadata": {
        "id": "fAQh7jLS19Re",
        "outputId": "e3cd049d-6101-467b-84fc-ee43b5159abe",
        "colab": {
          "base_uri": "https://localhost:8080/"
        }
      },
      "outputs": [
        {
          "output_type": "stream",
          "name": "stdout",
          "text": [
            "(6, 2)\n"
          ]
        }
      ],
      "source": [
        "# train test split\n",
        "def train_test_split(data, gt_y, train_perc):\n",
        "    \"\"\"Split the dataset into training and validation set.\"\"\"\n",
        "    assert(train_perc > 0. and train_perc <= 1.)\n",
        "    data_train, y_train, data_test, y_test = None, None, None, None\n",
        "\n",
        "    num_examples = len(data)\n",
        "    num_train_samples = int(train_perc * num_examples)\n",
        "\n",
        "    # Randomly shuffle the data\n",
        "    random_indices = np.random.permutation(num_examples)\n",
        "    data = data[random_indices]\n",
        "    gt_y = gt_y[random_indices]\n",
        "\n",
        "\n",
        "    # Split data into training and validation sets\n",
        "    data_train, y_train = data[:num_train_samples], gt_y[:num_train_samples]\n",
        "    data_test, y_test = data[num_train_samples:], gt_y[num_train_samples:]\n",
        "\n",
        "\n",
        "\n",
        "    return data_train, y_train, data_test, y_test\n",
        "\n",
        "reset_seed(1)\n",
        "train_perc = 0.3\n",
        "data_train, y_train, data_test, y_test = train_test_split(data, gt_y, train_perc)\n",
        "print(data_train.shape)"
      ]
    },
    {
      "cell_type": "markdown",
      "source": [
        "**Task 4: Model Training - Analytically**\n",
        "\n",
        "You need to implement a simple linear regression function to obtian optimal weight and bias using the analytical solution method. This method allows you to calculate the coefficients of the linear regression model directly without iterative optimization algorithms."
      ],
      "metadata": {
        "id": "YJYcP_uUnTH-"
      }
    },
    {
      "cell_type": "code",
      "source": [
        "from re import T\n",
        "from numpy.core.fromnumeric import transpose\n",
        "def lin_reg_analyt(X, y):\n",
        "    \"\"\"\n",
        "    Train linear regression analytical.\n",
        "    Optimial solution:\n",
        "    (X^T * X)^{-1} * X^T * y\n",
        "\n",
        "    \"\"\"\n",
        "    X_transpose = np.transpose(X)\n",
        "    XTX = np.dot(X_transpose, X)\n",
        "    XTX_inverse = np.linalg.inv(XTX)\n",
        "    XTX_inverse_XT = np.dot(XTX_inverse, X_transpose)\n",
        "    W_optim = np.dot(XTX_inverse_XT, y)\n",
        "\n",
        "\n",
        "    return W_optim"
      ],
      "metadata": {
        "id": "uUTgD8ff53Or"
      },
      "execution_count": 33,
      "outputs": []
    },
    {
      "cell_type": "markdown",
      "source": [
        "**Task 5: Train Your Model**\n",
        "\n",
        "Now, you already have all the helper functions to train your linear regression model. Obtain the predicted parameters."
      ],
      "metadata": {
        "id": "NFqskhvUqTMJ"
      }
    },
    {
      "cell_type": "code",
      "source": [
        "parameters = lin_reg_analyt(data_train, y_train)\n",
        "print(parameters)"
      ],
      "metadata": {
        "id": "Aa8cw5R76MFU",
        "outputId": "0247aad6-f3a8-4014-e1b3-8b001fd0dcda",
        "colab": {
          "base_uri": "https://localhost:8080/"
        }
      },
      "execution_count": 34,
      "outputs": [
        {
          "output_type": "stream",
          "name": "stdout",
          "text": [
            "[[ 1.62123372]\n",
            " [-0.61861184]]\n"
          ]
        }
      ]
    },
    {
      "cell_type": "markdown",
      "source": [
        "**Task 6: Model Evaluation**\n",
        "Make predictions on the validation data using your trained model.  Calculate and display the Mean Squared Error (MSE) score to evaluate the model's performance.\n",
        "\n"
      ],
      "metadata": {
        "id": "qS0C9_dp0MH7"
      }
    },
    {
      "cell_type": "code",
      "source": [
        "y_test_pred = np.dot(data_test, parameters)\n",
        "\n",
        "\n",
        "# Calculate MSE error\n",
        "mse = np.mean((y_test - y_test_pred) ** 2)\n",
        "print(f\"MSE on validation set: {mse}\")"
      ],
      "metadata": {
        "id": "MWDqYtlf6hfg",
        "outputId": "62e6ed77-c312-4a5c-ebda-b0c70e0735c3",
        "colab": {
          "base_uri": "https://localhost:8080/"
        }
      },
      "execution_count": 36,
      "outputs": [
        {
          "output_type": "stream",
          "name": "stdout",
          "text": [
            "MSE on validation set: 0.00010010972928213936\n"
          ]
        }
      ]
    },
    {
      "cell_type": "markdown",
      "source": [
        "**Remark**\n",
        "\n",
        "By now, you have finished the basic version of linear regression. With no additive noise in your data generation function, the MSE you achieve by using the analytical solution should be almost zero."
      ],
      "metadata": {
        "id": "kfkSzjuxt84D"
      }
    },
    {
      "cell_type": "markdown",
      "source": [
        "## Homework (Due on Sat Oct 21, 11:59pm PST)"
      ],
      "metadata": {
        "id": "7kAUMTJajo6u"
      }
    },
    {
      "cell_type": "markdown",
      "source": [
        "**Problem 1: Basic Gradient Descent [30 points]**\n",
        "\n",
        "Now, instead of using the analytic method to find the best parameters for the linear regression problem, you need to implement a gradient descent (GD) approach. Initialize your parameters with all zeros, set the number of iterations to 1000, and the learning rate to 1e-3. Report the MSE score and compare it to the one you found using the analytical approach."
      ],
      "metadata": {
        "id": "e1aHm3l_vUU5"
      }
    },
    {
      "cell_type": "code",
      "source": [
        "def gd_linear_regression(X, y, num_step, lr):\n",
        "    \"\"\"Use gradient descent to find the optimal parameters\"\"\"\n",
        "    # initialize parameters\n",
        "    parameters = np.zeros((X.shape[1],1))\n",
        "    for _ in range(num_step):\n",
        "\n",
        "        y_pred = np.dot(X, parameters)\n",
        "\n",
        "        # Compute errors\n",
        "        error = y_pred - y\n",
        "\n",
        "        # Compute gradients\n",
        "        gradients_pre = np.dot(X.T, error)\n",
        "        gradients = gradients_pre / num_example\n",
        "\n",
        "        # Update parameters\n",
        "        parameters -= lr*gradients\n",
        "\n",
        "    return parameters\n",
        "\n",
        "num_step = 1000\n",
        "lr = 1e-7\n",
        "parameters_gd = gd_linear_regression(data_train, y_train, num_step, lr)\n",
        "print(parameters_gd)"
      ],
      "metadata": {
        "id": "HasYEcAwwZZL",
        "outputId": "39f9ae8d-6005-4d2f-b300-abcf29cbccf4",
        "colab": {
          "base_uri": "https://localhost:8080/"
        }
      },
      "execution_count": 37,
      "outputs": [
        {
          "output_type": "stream",
          "name": "stdout",
          "text": [
            "[[ 5.48759856e-05]\n",
            " [-2.33477333e-05]]\n"
          ]
        }
      ]
    },
    {
      "cell_type": "markdown",
      "source": [
        "Now evaluate the parameters you get by gradient descent on the validation set."
      ],
      "metadata": {
        "id": "OQLhTSeEIsJq"
      }
    },
    {
      "cell_type": "code",
      "source": [
        "\n",
        "y_test_pred = np.dot(data_test, parameters_gd)\n",
        "\n",
        "\n",
        "# Calculate MSE error\n",
        "mse = np.mean((y_test - y_test_pred) ** 2)\n",
        "print(f\"MSE on validation set: {mse}\")"
      ],
      "metadata": {
        "id": "au2_Q9gUI2r5",
        "outputId": "07e742c0-484c-4850-a27f-d3e0adfb730d",
        "colab": {
          "base_uri": "https://localhost:8080/"
        }
      },
      "execution_count": 38,
      "outputs": [
        {
          "output_type": "stream",
          "name": "stdout",
          "text": [
            "MSE on validation set: 4.079935759371971\n"
          ]
        }
      ]
    },
    {
      "cell_type": "markdown",
      "source": [
        "**Problem 2: Learning Rate in Gradient Descent [20 points]**\n",
        "\n",
        "In this problem, you need to experiment with different learning rates. Please report the MSE score when you set your learning rate as 0.05 and 1e-7 (with the number of gradient descent steps remaining at 1000). Discuss your findings."
      ],
      "metadata": {
        "id": "Mx6xeK-h2J_U"
      }
    },
    {
      "cell_type": "markdown",
      "source": [
        "lr = 0.05 MSE = 6.538764657058062e-06\n",
        "\n",
        "lr = 1e-7 MSE = 4.059845280642378\n",
        "\n"
      ],
      "metadata": {
        "id": "HNitg6I44CRh"
      }
    },
    {
      "cell_type": "markdown",
      "source": [
        "**Problem 3: Linear Regression with L2 Regularization [50 points]**\n",
        "\n",
        " Recall the objective function for linear regression can be expressed as $E(\\mathbf{w})=\\frac{1}{N}\\|\\mathbf{X}\\mathbf{w}-\\mathbf{y}\\|^2$. Minimizing this function with respect to $\\mathbf{w}$ leads to the optimal $\\mathbf{w}^*$ as $(\\mathbf{X}^T\\mathbf{X})^{-1}\\mathbf{X}^T\\mathbf{y}$.  However, this solution holds only when $\\mathbf{X}^T\\mathbf{X}$ is nonsingular.\n",
        "\n",
        "To overcome this problem, the following objective\n",
        "function is commonly minimized instead:\n",
        "$E_2(\\mathbf{w})=\\|\\mathbf{X}\\mathbf{w}-\\mathbf{y}\\|^2+\\alpha\\|\\mathbf{w}\\|^2,$ where $\\alpha>0$ is a user-specified parameter.  This objective function is often called ridge regression.  \n",
        "\n",
        "Now, you need to repeat what you have done to obtain the optimal parameters of the ridge regression model using **both analytical** and **gradient descent** approaches.\n",
        "\n",
        "Compare the MSE on the validation set for parameters obtained by four method: linear regression with analytical and gradient descent solution, and ridge regression with analytical and gradient descent solution (feel free to explore different values for $\\alpha$).\n",
        "\n",
        "Report your results in the following setting and discuss your findings:\n",
        "\n",
        "*   Generate 1000 random data points with input dimension 100 (not including bias). Fix 100 of them as test points. Among the remaining 900 data points, use different number of data points (25, 50, 75, 100, ..., 300) as training data. Report MSE on the test set and plot the MSE as a function of the number of training data.\n",
        "\n"
      ],
      "metadata": {
        "id": "hLSag1cK32Mv"
      }
    },
    {
      "cell_type": "code",
      "source": [
        "import random\n",
        "import numpy as np\n",
        "import matplotlib.pyplot as plt\n",
        "\n",
        "def reset_seed(seed):\n",
        "    random.seed(seed)\n",
        "    np.random.seed(seed)"
      ],
      "metadata": {
        "id": "ZLvaArnbjpRW"
      },
      "execution_count": 60,
      "outputs": []
    },
    {
      "cell_type": "code",
      "source": [
        "def generate_data(num_example, input_dim):\n",
        "    \"\"\"\n",
        "    This function generates a dataset for linear regression.\n",
        "    \"\"\"\n",
        "    data, gt_y = None, None\n",
        "    w = np.random.randn(input_dim+1 , 1)\n",
        "\n",
        "    data = np.random.randn(num_example, input_dim+1)\n",
        "    data[:,0] = 1\n",
        "    gt_y = data @ w\n",
        "    noise = np.random.randn(num_example,1)*0.01\n",
        "    gt_y += noise\n",
        "\n",
        "\n",
        "    return data, gt_y"
      ],
      "metadata": {
        "id": "RwMdvB4RjpA0"
      },
      "execution_count": 61,
      "outputs": []
    },
    {
      "cell_type": "code",
      "source": [
        "num_example = 1000\n",
        "input_dim = 100\n",
        "reset_seed(1)\n",
        "\n",
        "data, gt_y = generate_data(num_example, input_dim)"
      ],
      "metadata": {
        "id": "-Yd16TR4jzIa"
      },
      "execution_count": 63,
      "outputs": []
    },
    {
      "cell_type": "code",
      "source": [
        "def train_test_split_2(data, gt_y):\n",
        "    data_train, y_train, data_test, y_test = None, None, None, None\n",
        "    num_examples = len(data)\n",
        "    mask = np.arange(len(data)) % 25 == 0\n",
        "    selected_data_points = data[mask]\n",
        "    selected_y = gt_y [mask]\n",
        "    # Randomly shuffle the data\n",
        "    random_indices = np.random.permutation(num_examples)\n",
        "    data = data[random_indices]\n",
        "    gt_y = gt_y[random_indices]\n",
        "\n",
        "\n",
        "    # Split data into training and validation sets\n",
        "\n",
        "    data_train, y_train = selected_data_points, selected_y\n",
        "    data_test, y_test = data[:100], gt_y[:100]\n",
        "\n",
        "\n",
        "\n",
        "    return data_train, y_train, data_test, y_test\n",
        "\n",
        "reset_seed(1)\n",
        "train_perc = 0.3\n",
        "data_train, y_train, data_test, y_test = train_test_split_2(data, gt_y)\n",
        "print(data_train.shape)"
      ],
      "metadata": {
        "id": "jStOieAHhY71",
        "outputId": "f4a7edf6-101f-400d-adb4-91e6016458da",
        "colab": {
          "base_uri": "https://localhost:8080/"
        }
      },
      "execution_count": 64,
      "outputs": [
        {
          "output_type": "stream",
          "name": "stdout",
          "text": [
            "(40, 101)\n"
          ]
        }
      ]
    },
    {
      "cell_type": "code",
      "source": [
        "def ridge_regression_analyt(X, y, alpha):\n",
        "    \"\"\"Train ridge regression analytically.\"\"\"\n",
        "    # add 2 * alpha * w\n",
        "    W_optim = None\n",
        "    X_transpose = np.transpose(X)\n",
        "    XTX = np.dot(X_transpose, X)\n",
        "    XTX_inverse = np.linalg.inv(XTX)\n",
        "    XTX_inverse_XT = np.dot(XTX_inverse, X_transpose)\n",
        "    W_optim = np.dot(XTX_inverse_XT, y)\n",
        "    W_optim = W_optim + 2 * alpha * np.dot(X_transpose ,y)\n",
        "    return W_optim\n",
        "\n",
        "\n",
        "\n",
        "\n",
        "\n",
        "mse_values = []\n",
        "training_sizes = list(range(25, 900, 10))\n",
        "\n",
        "for training_size in training_sizes:\n",
        "    # Use the first `training_size` data points for training\n",
        "    data_train = data[100:100+training_size]\n",
        "    y_train = gt_y[100:100+training_size]\n",
        "    parameters_L2 = ridge_regression_analyt(data_train, y_train,0.00005)\n",
        "    y_test_pred = np.dot(data_test, parameters_L2)\n",
        "    # Calculate MSE and store it\n",
        "    mse = np.mean((y_test - y_test_pred) ** 2)\n",
        "    mse_values.append(mse)\n",
        "\n",
        "# Plot the MSE as a function of the number of training data\n",
        "plt.plot(training_sizes, mse_values, marker='o')\n",
        "plt.xlabel('Number of Training Data Points')\n",
        "plt.ylabel('Mean Squared Error (MSE)')\n",
        "plt.title('MSE with Number of Training Data Points')\n",
        "plt.show()\n",
        "\n"
      ],
      "metadata": {
        "id": "QoULzFNb6feW",
        "outputId": "d0aaf5b4-09a2-4348-def3-c56e88697d00",
        "colab": {
          "base_uri": "https://localhost:8080/",
          "height": 472
        }
      },
      "execution_count": 54,
      "outputs": [
        {
          "output_type": "display_data",
          "data": {
            "text/plain": [
              "<Figure size 640x480 with 1 Axes>"
            ],
            "image/png": "[encoded data removed]"
          },
          "metadata": {}
        }
      ]
    },
    {
      "cell_type": "code",
      "source": [
        "def gd_ridge_regression(X, y,  num_step, lr):\n",
        "    \"\"\"Use gradient descent to find the optimal parameters\"\"\"\n",
        "    # initialize parameters\n",
        "    parameters = np.zeros((X.shape[1],1))\n",
        "    for _ in range(num_step):\n",
        "\n",
        "        y_pred = np.dot(X, parameters)\n",
        "\n",
        "        # Compute errors\n",
        "        error = y_pred - y\n",
        "\n",
        "        # Compute gradients\n",
        "        gradients_pre = np.dot(X.T, error)\n",
        "        gradients = gradients_pre / num_example\n",
        "\n",
        "        # Update parameters\n",
        "        parameters -= lr*gradients\n",
        "\n",
        "    return parameters\n",
        "\n",
        "num_step = 1000\n",
        "lr = 1e-2\n",
        "\n",
        "mse_values = []\n",
        "training_sizes = list(range(25, 900, 10))\n",
        "\n",
        "for training_size in training_sizes:\n",
        "    # Use the first `training_size` data points for training\n",
        "    data_train = data[100:100+training_size]\n",
        "    y_train = gt_y[100:100+training_size]\n",
        "    parameters_gd_ridge = gd_ridge_regression(data_train, y_train, num_step, lr)\n",
        "    y_test_pred = np.dot(data_test, parameters_gd_ridge)\n",
        "    # Calculate MSE and store it\n",
        "    mse = np.mean((y_test - y_test_pred) ** 2)\n",
        "    mse_values.append(mse)\n",
        "\n",
        "# Plot the MSE as a function of the number of training data\n",
        "plt.plot(training_sizes, mse_values, marker='o')\n",
        "plt.xlabel('Number of Training Data Points')\n",
        "plt.ylabel('Mean Squared Error (MSE)')\n",
        "plt.title('MSE with Number of Training Data Points')\n",
        "plt.show()\n",
        "\n",
        "\n"
      ],
      "metadata": {
        "id": "6V3Cgtl8K4XY",
        "outputId": "a4fa5833-c87f-4976-8bf6-4076d2ce31cf",
        "colab": {
          "base_uri": "https://localhost:8080/",
          "height": 472
        }
      },
      "execution_count": 67,
      "outputs": [
        {
          "output_type": "display_data",
          "data": {
            "text/plain": [
              "<Figure size 640x480 with 1 Axes>"
            ],
            "image/png": "[encoded data removed]"
          },
          "metadata": {}
        }
      ]
    },
    {
      "cell_type": "code",
      "source": [],
      "metadata": {
        "id": "nbL9nDGWe6jH"
      },
      "execution_count": null,
      "outputs": []
    }
  ]
}