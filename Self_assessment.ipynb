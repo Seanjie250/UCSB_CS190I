{
  "nbformat": 4,
  "nbformat_minor": 0,
  "metadata": {
    "colab": {
      "provenance": [],
      "include_colab_link": true
    },
    "kernelspec": {
      "name": "python3",
      "display_name": "Python 3"
    },
    "language_info": {
      "name": "python"
    }
  },
  "cells": [
    {
      "cell_type": "markdown",
      "metadata": {
        "id": "view-in-github",
        "colab_type": "text"
      },
      "source": [
        "<a href=\"https://colab.research.google.com/github/Seanjie250/UCSB_CS190I/blob/main/Self_assessment.ipynb\" target=\"_parent\"><img src=\"https://colab.research.google.com/assets/colab-badge.svg\" alt=\"Open In Colab\"/></a>"
      ]
    },
    {
      "cell_type": "markdown",
      "source": [
        "# CS190I Self Assessment (Due on Sat, Oct 7, 2023, 11:59pm PST)\n",
        "\n",
        "The prerequisites for this course include linear algebra, vector calculus, and probability. Most of your homework will be in the form of machine problems using Python, and the written report as a part of your homework might require you to be familiar with LaTeX syntax.  This self-assessment will help you check if you are comfortable with these basic concepts and required skills.\n"
      ],
      "metadata": {
        "id": "TEbAbG_T2HOr"
      }
    },
    {
      "cell_type": "markdown",
      "source": [
        "1. **(Basic linear algebra)** $$\n",
        "  A = \\begin{bmatrix} 4 & 1& 3& 6\\\\ 2 & 7 & 5& 3 \\end{bmatrix},\n",
        "  B = \\begin{bmatrix} 0 & 4 \\\\ 7 & 6 \\\\ 5 & 8 \\\\ 3 & 11\\end{bmatrix},\n",
        "  C = \\begin{bmatrix} -13 & 0 & 2 \\\\ 5 & 2 & 10\\\\ 0 & 7 & 9 \\end{bmatrix},\n",
        "  D = \\begin{bmatrix} 5 & -3 & -7 \\\\ 4 & 0 & 10\\\\ 7 & 3 & 11 \\end{bmatrix},\n",
        "  E = \\begin{bmatrix} -4 & 5 \\\\ 12 & 7 \\end{bmatrix}.\n",
        "$$\n",
        "Please compute the following questions. If the matrix shape prevents the calculation, simply answer 'not feasible'.\n",
        "\n",
        "  (a) $(3B)^T$\n",
        "\n",
        "  (b) $(A-B)^T$\n",
        "\n",
        "  (c) $(2B^T - A)^T$\n",
        "\n",
        "  (d) $(C+ 2D^T + E)^T$\n",
        "\n",
        "  (e) $(-A)^T E$"
      ],
      "metadata": {
        "id": "dJzem-sDcudI"
      }
    },
    {
      "cell_type": "markdown",
      "source": [
        "\n",
        "(a)\n",
        "\\begin{bmatrix}\n",
        "0 & 21 & 15 & 9 \\\\\n",
        "12 & 18 & 24 & 33\n",
        "\\end{bmatrix}\n",
        "\n",
        "(b)\n",
        "\\begin{bmatrix}\n",
        "4 &-6 &-2 & 3\\\\\n",
        "-2 & 1& -3& -8\n",
        "\\end{bmatrix}\n",
        "\n",
        "(c)\n",
        "\\begin{bmatrix}\n",
        "-4&6\\\\\n",
        "13&5\\\\\n",
        "7&11\\\\\n",
        "0&9\n",
        "\\end{bmatrix}\n",
        "\n",
        "(d)\n",
        "\\begin{bmatrix}\n",
        "-7&11&-14\\\\\n",
        "13&9&27\\\\\n",
        "16&16&31\n",
        "\\end{bmatrix}\n",
        "\n",
        "(e)\n",
        "\\begin{bmatrix}\n",
        "-34&-54&-50&-51\\\\\n",
        "-8&-80&-48&-12\n",
        "\\end{bmatrix}\n"
      ],
      "metadata": {
        "id": "PvPzWyMEXwxx"
      }
    },
    {
      "cell_type": "markdown",
      "source": [
        "2. **(Basic calculus)** Given $g(x,y)=e^{(x+y)}+ e^{3xy} +e^{y^4}$, compute $\\frac{\\partial g}{\\partial x}$ and $\\frac{\\partial g}{\\partial y}$.\n"
      ],
      "metadata": {
        "id": "tmTi4Y-c6KbM"
      }
    },
    {
      "cell_type": "markdown",
      "source": [
        "$\\frac{\\partial g}{\\partial x}$=$g(x,y)=e^{(x+y)}+ 3ye^{3xy} $\n",
        "\n",
        "$\\frac{\\partial g}{\\partial x}$=$g(x,y)=e^{(x+y)}+ 3xe^{3xy} +4{y^3}e^{y^4}$\n",
        "\n",
        "\n"
      ],
      "metadata": {
        "id": "A5Zdi92oZIL5"
      }
    },
    {
      "cell_type": "markdown",
      "source": [
        "3. **(Basic optimization)** An Euclidean projection of a $d$-dimensional point $y \\in \\mathbb R^d$ to a set $\\Omega$ is given by the\n",
        "following optimization problem:\n",
        "\\begin{align}\n",
        "x^* = arg\\,min_{x} \\|x - y\\|_2^2, \\quad \\text{subject to: } x \\in \\Omega\n",
        "\\end{align}\n",
        "where $\\Omega$ is the feasible set, $\\|\\cdot\\|_2$ is the $\\ell_2$ norm of a vector, and $x^* \\in \\mathbb R^d$ is the projected vector.\n",
        "\n",
        "  (a) What is $x^*$ if $y=1.1$ and $\\Omega = \\mathbb N$, where $\\mathbb N$ is the set of natural numbers.\n",
        "\n",
        "  (b) Locate the $x^*$ in the following picture, and upload your figure.  \n",
        "  \n",
        "  ![projection.png](data:image/png;base64,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)\n"
      ],
      "metadata": {
        "id": "tSWn0UKnZRzE"
      }
    },
    {
      "cell_type": "markdown",
      "source": [
        "(a):x=1;\n",
        "\n",
        "(b)： x located in the intersection of this line which is perpendicular to ellipse ![Image 9-30-23 at 1.54 AM copy.jpeg](data:image/jpeg;base64,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)\n",
        "\n"
      ],
      "metadata": {
        "id": "8Zgq3TahZRwG"
      }
    },
    {
      "cell_type": "markdown",
      "source": [
        "4. **(Basic probabilty)**  Suppose that we have four colored boxes $r$ (red), $b$ (blue), $g$ (green), and $y$ (yellow). Box $r$ contains 5 apples, 2 oranges, and 3 mangoes, box $b$ contains 3 apple, 1 orange, and 7 mangoes, box $g$ contains 1 apple, 8 oranges, and 4 mangoes, and box $y$ contains 1 apple 9 oranges and 2 mangoes. If a box is chosen at random with probabilities $p(r)=0.1$, $p(b)=0.4$, $p(g)=0.3$, $p(y)=0.2$ and a piece of fruit is selected from the box (with equal probability of selecting any of the items in the box).\n",
        "\n",
        "  (a) What is the probability of selecting an orange?\n",
        "\n",
        "  (b) If we observe that the selected fruit is in fact a mango, what is the probability that it came from the red box?"
      ],
      "metadata": {
        "id": "ewGJfXxKZRrp"
      }
    },
    {
      "cell_type": "markdown",
      "source": [
        "(a) 0.1*0.2 +0.4*1/11 +8/13*0.3 + 0.2*9/12 = 0.391,about 39.1%\n",
        "\n",
        "(b) P(M/R)=P(R/M)*P(R)/P(M) = 0.03/(1-P(O)-P(A)) = 0.0829 ,about 8.29%"
      ],
      "metadata": {
        "id": "g8aeaL-iZRg-"
      }
    },
    {
      "cell_type": "markdown",
      "source": [
        "5. **(Basic Python)** Use python with numpy pakcage to verify your solution to the first question.  "
      ],
      "metadata": {
        "id": "XFVL52x6i-xu"
      }
    },
    {
      "cell_type": "code",
      "source": [
        "\n",
        "import numpy as np\n",
        "\n",
        "A = np.array([[4,1,3,6], [2,7,5,3]])\n",
        "B = np.array([[0,4], [7,6],[5,8],[3,11]])\n",
        "C = np.array([[-13,0,2], [5,2,10],[0,7,9]])\n",
        "D = np.array([[5,-3,-7], [4,0,10],[7,3,11]])\n",
        "E = np.array([[-4,5], [12,7]])\n",
        "transposeB = np.transpose(B)\n",
        "transposeD = np.transpose(D)\n",
        "transposeA = np.transpose(-A)\n",
        "transpose1A = np.transpose(A)\n",
        "expandE = np.zeros((3,3))\n",
        "expandE [:2,:2]= E\n",
        "\n",
        "answerA = np.transpose((3*B))\n",
        "print(answerA)\n",
        "\n",
        "substractionAB = transpose1A-B\n",
        "answerB = np.transpose(substractionAB)\n",
        "print(answerB)\n",
        "\n",
        "substraction2BTA = 2*transposeB - A\n",
        "answerC = np.transpose(substraction2BTA)\n",
        "print(answerC)\n",
        "\n",
        "additionCDE = C + 2*transposeD + expandE\n",
        "answerD = np.transpose(additionCDE)\n",
        "print(answerD)\n",
        "\n",
        "answerE= np.dot(transposeA,E)\n",
        "print(answerE)\n"
      ],
      "metadata": {
        "id": "T2dAJBgpjOjR",
        "outputId": "8ef00275-a46e-4cf3-cc4f-06e7d209ef26",
        "colab": {
          "base_uri": "https://localhost:8080/"
        }
      },
      "execution_count": 1,
      "outputs": [
        {
          "output_type": "stream",
          "name": "stdout",
          "text": [
            "[[ 0 21 15  9]\n",
            " [12 18 24 33]]\n",
            "[[ 4 -6 -2  3]\n",
            " [-2  1 -3 -8]]\n",
            "[[-4  6]\n",
            " [13  5]\n",
            " [ 7 11]\n",
            " [ 0 19]]\n",
            "[[ -7.  11. -14.]\n",
            " [ 13.   9.  27.]\n",
            " [ 16.  16.  31.]]\n",
            "[[ -8 -34]\n",
            " [-80 -54]\n",
            " [-48 -50]\n",
            " [-12 -51]]\n"
          ]
        }
      ]
    },
    {
      "cell_type": "code",
      "source": [],
      "metadata": {
        "id": "dtuty9yQjReg"
      },
      "execution_count": null,
      "outputs": []
    }
  ]
}